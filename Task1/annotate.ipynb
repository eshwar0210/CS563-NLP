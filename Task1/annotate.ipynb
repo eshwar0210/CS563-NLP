{
 "cells": [
  {
   "cell_type": "code",
   "execution_count": null,
   "id": "06754e5d",
   "metadata": {},
   "outputs": [],
   "source": [
    "import pandas as pd\n",
    "from tqdm import tqdm\n",
    "from textblob import TextBlob\n",
    "from nltk.sentiment import SentimentIntensityAnalyzer\n",
    "from transformers import pipeline\n",
    "\n",
    "import os\n",
    "os.environ[\"TRANSFORMERS_NO_TF\"] = \"1\"  # Important fix\n",
    "\n",
    "# Load dataset\n",
    "df = pd.read_csv(\"data.csv\")\n",
    "\n",
    "# Initialize analyzers\n",
    "sia = SentimentIntensityAnalyzer()\n",
    "bert_classifier = pipeline(\n",
    "    \"sentiment-analysis\",\n",
    "    model=\"distilbert/distilbert-base-uncased-finetuned-sst-2-english\",\n",
    "    revision=\"714eb0f\",\n",
    "    framework=\"pt\"\n",
    ")\n",
    "\n",
    "\n",
    "# TextBlob sentiment (scaled 0-1)\n",
    "def textblob_score(text):\n",
    "    try:\n",
    "        return (TextBlob(text).sentiment.polarity + 1) / 2\n",
    "    except:\n",
    "        return 0.5\n",
    "\n",
    "# VADER compound score (scaled 0-1)\n",
    "def vader_score(text):\n",
    "    try:\n",
    "        return (sia.polarity_scores(text)['compound'] + 1) / 2\n",
    "    except:\n",
    "        return 0.5\n",
    "\n",
    "# BERT (Transformer) sentiment\n",
    "def bert_score(text):\n",
    "    try:\n",
    "        result = bert_classifier(text[:512])[0]  # max 512 tokens\n",
    "        score = result['score']\n",
    "        return score if result['label'] == 'POSITIVE' else 1 - score\n",
    "    except:\n",
    "        return 0.5\n",
    "\n",
    "# Apply all with progress\n",
    "tqdm.pandas(desc=\"Analyzing Sentiment\")\n",
    "\n",
    "\n",
    "df['textblob'] = df['review_description'].astype(str).progress_apply(textblob_score)\n",
    "df['vader'] = df['review_description'].astype(str).progress_apply(vader_score)\n",
    "df['bert'] = df['review_description'].astype(str).progress_apply(bert_score)\n",
    "\n",
    "# Scaled rating\n",
    "df['rating_scaled'] = df['review_rating'].apply(lambda x: min(float(x), 5.0)/5.0 if pd.notnull(x) else 0.5)\n",
    "\n"
   ]
  },
  {
   "cell_type": "code",
   "execution_count": null,
   "id": "6b3668b3",
   "metadata": {},
   "outputs": [],
   "source": [
    "\n",
    "# Final sentiment as average of all\n",
    "df['final_sentiment'] = df[[ 'textblob', 'vader', 'bert', 'rating_scaled']].mean(axis=1)\n",
    "\n",
    "# Group by product\n",
    "product_sentiment = df.groupby('product_id')['final_sentiment'].mean().reset_index()\n",
    "product_sentiment.columns = ['product_id', 'avg_sentiment_score']\n",
    "\n",
    "# Label verdict\n",
    "product_sentiment['verdict'] = product_sentiment['avg_sentiment_score'].apply(\n",
    "    lambda x: 'Useful' if x > 0.705 else 'Not Useful'\n",
    ")\n",
    "\n",
    "# Save results\n",
    "product_sentiment.to_csv(\"product_sentiment_analysis_combined.csv\", index=False)\n",
    "\n",
    "print(\"Combined sentiment analysis completed.\")\n",
    "print(\"Saved as: product_sentiment_analysis_combined.csv\")"
   ]
  },
  {
   "cell_type": "code",
   "execution_count": 15,
   "id": "31930e0a",
   "metadata": {},
   "outputs": [
    {
     "data": {
      "image/png": "[encoded data removed]",
      "text/plain": [
       "<Figure size 640x480 with 1 Axes>"
      ]
     },
     "metadata": {},
     "output_type": "display_data"
    }
   ],
   "source": [
    "import pandas as pd\n",
    "import matplotlib.pyplot as plt\n",
    "from sklearn.cluster import KMeans\n",
    "\n",
    "# Step 1: Load data\n",
    "df = pd.read_csv(\"product_sentiment_analysis_combined.csv\")\n",
    "\n",
    "# Step 2: Plot histogram to visualize distribution\n",
    "plt.hist(df['avg_sentiment_score'], bins=20, color='skyblue')\n",
    "plt.axvline(df['avg_sentiment_score'].mean(), color='green', linestyle='--', label='Mean')\n",
    "plt.axvline(df['avg_sentiment_score'].median(), color='red', linestyle='--', label='Median')\n",
    "plt.xlabel('Average Sentiment Score')\n",
    "plt.ylabel('Number of Products')\n",
    "plt.title('Sentiment Score Distribution')\n",
    "plt.legend()\n",
    "plt.show()\n"
   ]
  },
  {
   "cell_type": "code",
   "execution_count": null,
   "id": "befc137f",
   "metadata": {},
   "outputs": [
    {
     "name": "stdout",
     "output_type": "stream",
     "text": [
      "New threshold: 0.7028\n",
      "Verdict counts after applying new threshold:\n",
      "Useful        41\n",
      "Not Useful     9\n",
      "Name: verdict, dtype: int64\n"
     ]
    }
   ],
   "source": [
    "import pandas as pd\n",
    "\n",
    "# Load the CSV\n",
    "sentiment_df = pd.read_csv('product_sentiment_analysis_combined.csv')\n",
    "\n",
    "# Calculate mean and standard deviation of sentiment scores\n",
    "mean_score = sentiment_df['avg_sentiment_score'].mean()\n",
    "std_dev = sentiment_df['avg_sentiment_score'].std()\n",
    "\n",
    "# Define new threshold: mean - 1 * std deviation\n",
    "new_threshold = mean_score - std_dev\n",
    "\n",
    "# Apply new verdict based on threshold\n",
    "sentiment_df['verdict'] = sentiment_df['avg_sentiment_score'].apply(\n",
    "    lambda x: 'Useful' if x >= new_threshold else 'Not Useful'\n",
    ")\n",
    "\n",
    "# Check how many are in each category\n",
    "verdict_counts = sentiment_df['verdict'].value_counts()\n",
    "\n",
    "print(f\"New threshold: {new_threshold:.4f}\")\n",
    "print(\"Verdict counts after applying new threshold:\")\n",
    "print(verdict_counts)\n",
    "\n",
    "# Save the updated DataFrame back to the CSV\n",
    "sentiment_df.to_csv('product_sentiment_analysis_combined.csv', index=False)\n"
   ]
  }
 ],
 "metadata": {
  "kernelspec": {
   "display_name": "base",
   "language": "python",
   "name": "python3"
  },
  "language_info": {
   "codemirror_mode": {
    "name": "ipython",
    "version": 3
   },
   "file_extension": ".py",
   "mimetype": "text/x-python",
   "name": "python",
   "nbconvert_exporter": "python",
   "pygments_lexer": "ipython3",
   "version": "3.11.4"
  }
 },
 "nbformat": 4,
 "nbformat_minor": 5
}
