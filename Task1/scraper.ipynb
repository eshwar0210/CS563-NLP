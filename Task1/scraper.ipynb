{
 "cells": [
  {
   "cell_type": "markdown",
   "id": "db479dd3",
   "metadata": {},
   "source": [
    "## Data Scrape Reviews,Rating and Prodcut From Amazon ##"
   ]
  },
  {
   "cell_type": "code",
   "execution_count": 1,
   "id": "09403ca5",
   "metadata": {},
   "outputs": [],
   "source": [
    "import pandas as pd\n",
    "from selenium import webdriver\n",
    "from bs4 import BeautifulSoup "
   ]
  },
  {
   "cell_type": "code",
   "execution_count": 2,
   "id": "9d16b2e8",
   "metadata": {},
   "outputs": [],
   "source": [
    "driver = webdriver.Chrome()"
   ]
  },
  {
   "cell_type": "code",
   "execution_count": 3,
   "id": "6a71e255",
   "metadata": {},
   "outputs": [],
   "source": [
    "driver.get(\"https://www.amazon.com/s?k=smart+phone&rh=n%3A2335752011%2Cp_n_feature_forty-one_browse-bin%3A119653281011&dc&ds=v1%3AHtywl1TSoxMCpykVDga%2FqZhVQcLD3ijV0Z8LuCEdvN0&crid=3OHE6MR44SP1H&qid=1734355462&rnid=119653280011&sprefix=%2Caps%2C284&ref=sr_nr_p_n_feature_forty-one_browse-bin_1\")"
   ]
  },
  {
   "cell_type": "code",
   "execution_count": 4,
   "id": "4120c324",
   "metadata": {},
   "outputs": [],
   "source": [
    "html_data = BeautifulSoup(driver.page_source,'html.parser')"
   ]
  },
  {
   "cell_type": "markdown",
   "id": "705a8a4c",
   "metadata": {},
   "source": [
    "### Getting No of Pages"
   ]
  },
  {
   "cell_type": "code",
   "execution_count": 6,
   "id": "a75f67af",
   "metadata": {},
   "outputs": [],
   "source": [
    "no_of_pages = int(html_data.find('span',{'class':'s-pagination-item s-pagination-disabled'}).text)"
   ]
  },
  {
   "cell_type": "code",
   "execution_count": 7,
   "id": "337d3ee6",
   "metadata": {},
   "outputs": [
    {
     "data": {
      "text/plain": [
       "135"
      ]
     },
     "execution_count": 7,
     "metadata": {},
     "output_type": "execute_result"
    }
   ],
   "source": [
    "no_of_pages"
   ]
  },
  {
   "cell_type": "markdown",
   "id": "70855680",
   "metadata": {},
   "source": [
    "### Getting ALl Review with Respect to Procducts"
   ]
  },
  {
   "cell_type": "code",
   "execution_count": 8,
   "id": "2cbd0049",
   "metadata": {},
   "outputs": [],
   "source": [
    "products = html_data.find_all(\"div\",{'data-component-type':'s-search-result'})"
   ]
  },
  {
   "cell_type": "code",
   "execution_count": null,
   "id": "4c47078a",
   "metadata": {},
   "outputs": [],
   "source": [
    "products"
   ]
  },
  {
   "cell_type": "code",
   "execution_count": 10,
   "id": "09f96d20",
   "metadata": {},
   "outputs": [],
   "source": [
    "import time\n",
    "from tqdm import tqdm"
   ]
  },
  {
   "cell_type": "code",
   "execution_count": null,
   "id": "f4e2d790",
   "metadata": {},
   "outputs": [
    {
     "name": "stderr",
     "output_type": "stream",
     "text": [
      "100%|██████████████████████████████████████████████████████████████████████████████| 135/135 [3:11:37<00:00, 85.17s/it]\n"
     ]
    }
   ],
   "source": [
    "base_url = \"https://www.amazon.in\"\n",
    "# Dataset Data Columns\n",
    "product_id = []\n",
    "product_url = []\n",
    "product_name = []\n",
    "product_img = []\n",
    "product_price = []\n",
    "product_rating = []\n",
    "product_review = []\n",
    "\n",
    "user_name = []\n",
    "review_url = []\n",
    "review_rating = []\n",
    "review_title = []\n",
    "review_description = []\n",
    "\n",
    "\n",
    "for i in tqdm(range(no_of_pages)):\n",
    "    page_url ='https://www.amazon.in/s?k=smart+phone&rh=n%3A2335752011%2Cp_n_feature_forty-one_browse-bin%3A119653281011&dc&ds=v1%3AHtywl1TSoxMCpykVDga%2FqZhVQcLD3ijV0Z8LuCEdvN0&crid=3OHE6MR44SP1H&qid=1734355462&rnid=119653280011&sprefix=%2Caps%2C284&ref=sr_nr_p_n_feature_forty-one_browse-bin_1&page'+str(i+1)\n",
    "    driver.get(page_url)\n",
    "    html_data = BeautifulSoup(driver.page_source,'html.parser')  \n",
    "    # Fetching Products from Each Pages    \n",
    "    for product in products:\n",
    "\n",
    "        # FOR PRODUCT\n",
    "        # for Product Ids\n",
    "        asin = product.get('data-asin')\n",
    "        #  print(product) # fetch all the product tages\n",
    "        name = product.find('h2',{'class':\"a-size-medium a-spacing-none a-color-base a-text-normal\"}).text\n",
    "        # For image\n",
    "        img = product.find('img')['src']\n",
    "        # for Rating\n",
    "        rating = product.find('span',{'class':'a-icon-alt'}).text.replace(\" out of 5 stars\",\"\")\n",
    "\n",
    "        # Calculating the price to decimal Error Handling\n",
    "        price =\"\"\n",
    "        try:\n",
    "            price ='$'+ product.find('span',{\"class\":\"a-price-whole\"}).text + product.find('span',{\"class\":\"a-price-fraction\"}).text\n",
    "        except:\n",
    "            price = product.find('span',{'class':'a-offscreen'})\n",
    "\n",
    "        # For total Review\n",
    "        total_no_of_reviews = product.find('span',{'class':\"a-size-base s-underline-text\"}).text\n",
    "        #   for product url\n",
    "        url =product.find('a',{'class':'a-link-normal s-line-clamp-2 s-link-style a-text-normal'}).get('href')\n",
    "        product_review_page_url = base_url + url\n",
    "        #  Redirect to Page Url to Extract the Details   \n",
    "        driver.get(product_review_page_url)\n",
    "\n",
    "        # Extracts the Review     \n",
    "        html_data = BeautifulSoup(driver.page_source, 'html.parser')\n",
    "        reviews = html_data.find_all('li',{'data-hook':\"review\"})\n",
    "\n",
    "        for review in reviews:\n",
    "            # FOR REVIEWS\n",
    "            product_id.append(asin)\n",
    "            product_url.append(base_url+url)\n",
    "            product_name.append(name)\n",
    "            product_img.append(img)\n",
    "            product_rating.append(rating)\n",
    "            product_price.append(price)\n",
    "            product_review.append(total_no_of_reviews)\n",
    "\n",
    "            #  for username \n",
    "            review_user_name = review.find('span',{'class':\"a-profile-name\"}).text\n",
    "            user_name.append(review_user_name)\n",
    "\n",
    "            # for review url including Error Handling\n",
    "            product_review_url =\"\"\n",
    "            try:\n",
    "                product_review_url =base_url+review.find('a',{'data-hook':\"review-title\"}).get('href')\n",
    "            except:\n",
    "                product_review_url=\"\"\n",
    "            review_url.append(product_review_url)\n",
    "\n",
    "            # for review_title including Error Handling\n",
    "            product_review_title =\"\"\n",
    "            try:\n",
    "                product_review_title = review.find('a',{'data-hook':\"review-title\"}).text.replace(review.find('span',{\"class\":\"a-icon-alt\"}).text,\"\").replace('\\n',\"\")\n",
    "            except AttributeError:\n",
    "                product_review_title = review.find('span',{'data-hook':\"review-title\"}).text.replace('\\n',\"\")\n",
    "\n",
    "            review_title.append(product_review_title)\n",
    "\n",
    "            # for review_Rating\n",
    "            product_review_rating = review.find('span',{\"class\":\"a-icon-alt\"}).text.replace(\" out of 5 stars\",\"\")\n",
    "            review_rating.append(product_review_rating)\n",
    "\n",
    "            # for review_descritpion\n",
    "            product_review_descritpion = review.find('div',{'data-hook':\"review-collapsed\"}).text.replace('\\n',\"\")\n",
    "            review_description.append(product_review_descritpion)\n",
    "            "
   ]
  },
  {
   "cell_type": "code",
   "execution_count": null,
   "id": "ffa06f96",
   "metadata": {},
   "outputs": [],
   "source": [
    "print(len(product_id),\n",
    "      len(user_name),\n",
    "      len(review_url),\n",
    "      len(review_rating),\n",
    "      len(review_title),\n",
    "      len(review_description))"
   ]
  },
  {
   "cell_type": "code",
   "execution_count": null,
   "id": "94e298a4",
   "metadata": {},
   "outputs": [],
   "source": [
    "data = pd.DataFrame({'product_id':product_id,\n",
    "                     'product_overall_rating':product_rating,\n",
    "                     'total_reviews':product_review,\n",
    "                     'user_name':user_name,\n",
    "                     'review_url':review_url,\n",
    "                     'review_rating':review_rating,\n",
    "                     'review_title':review_title,\n",
    "                     \"review_description\":review_description\n",
    "                    })"
   ]
  },
  {
   "cell_type": "code",
   "execution_count": null,
   "id": "5ce7864b",
   "metadata": {},
   "outputs": [],
   "source": [
    "data"
   ]
  },
  {
   "cell_type": "code",
   "execution_count": null,
   "id": "870d6c30",
   "metadata": {},
   "outputs": [],
   "source": [
    "data.to_csv('data.csv')"
   ]
  }
 ],
 "metadata": {
  "kernelspec": {
   "display_name": "Python 3",
   "language": "python",
   "name": "python3"
  },
  "language_info": {
   "codemirror_mode": {
    "name": "ipython",
    "version": 3
   },
   "file_extension": ".py",
   "mimetype": "text/x-python",
   "name": "python",
   "nbconvert_exporter": "python",
   "pygments_lexer": "ipython3",
   "version": "3.10.12"
  }
 },
 "nbformat": 4,
 "nbformat_minor": 5
}
